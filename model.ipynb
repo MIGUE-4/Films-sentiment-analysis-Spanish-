{
 "cells": [
  {
   "cell_type": "code",
   "execution_count": 11,
   "metadata": {},
   "outputs": [],
   "source": [
    "import pandas as pd\n",
    "import numpy as np\n",
    "import tensorflow as tf\n",
    "from nltk.tokenize import word_tokenize\n",
    "from tensorflow.keras.layers import TextVectorization\n",
    "from tensorflow.keras.layers import Dense, LSTM, SimpleRNN, Input, Embedding\n",
    "from tensorflow.keras.models import Sequential\n",
    "from tensorflow.keras.preprocessing import sequence\n",
    "from sklearn.model_selection import train_test_split\n",
    "from sklearn.preprocessing import OneHotEncoder\n",
    "from nltk.corpus import stopwords\n",
    "import spacy"
   ]
  },
  {
   "cell_type": "code",
   "execution_count": 12,
   "metadata": {},
   "outputs": [],
   "source": [
    "text_cleaned = pd.read_parquet('data_cleaned.parquet')"
   ]
  },
  {
   "cell_type": "code",
   "execution_count": 13,
   "metadata": {},
   "outputs": [
    {
     "data": {
      "text/html": [
       "<div>\n",
       "<style scoped>\n",
       "    .dataframe tbody tr th:only-of-type {\n",
       "        vertical-align: middle;\n",
       "    }\n",
       "\n",
       "    .dataframe tbody tr th {\n",
       "        vertical-align: top;\n",
       "    }\n",
       "\n",
       "    .dataframe thead th {\n",
       "        text-align: right;\n",
       "    }\n",
       "</style>\n",
       "<table border=\"1\" class=\"dataframe\">\n",
       "  <thead>\n",
       "    <tr style=\"text-align: right;\">\n",
       "      <th></th>\n",
       "      <th>review_text</th>\n",
       "      <th>review_rate</th>\n",
       "    </tr>\n",
       "  </thead>\n",
       "  <tbody>\n",
       "    <tr>\n",
       "      <th>0</th>\n",
       "      <td>[mayor, virtud, película, existencia.el, hecho...</td>\n",
       "      <td>negative</td>\n",
       "    </tr>\n",
       "    <tr>\n",
       "      <th>1</th>\n",
       "      <td>[experto, cinéfilo, ,, poco, vez, tanto, juego...</td>\n",
       "      <td>negative</td>\n",
       "    </tr>\n",
       "    <tr>\n",
       "      <th>2</th>\n",
       "      <td>[si, incondicional, humor, estilo, tele, 5.si,...</td>\n",
       "      <td>negative</td>\n",
       "    </tr>\n",
       "    <tr>\n",
       "      <th>3</th>\n",
       "      <td>[saber, pasar, ,, si, gente, dejar, llevar, mo...</td>\n",
       "      <td>negative</td>\n",
       "    </tr>\n",
       "    <tr>\n",
       "      <th>4</th>\n",
       "      <td>[`, `, amanecer, ,, quedo, solo, ,, sentir, fo...</td>\n",
       "      <td>negative</td>\n",
       "    </tr>\n",
       "    <tr>\n",
       "      <th>...</th>\n",
       "      <td>...</td>\n",
       "      <td>...</td>\n",
       "    </tr>\n",
       "    <tr>\n",
       "      <th>56362</th>\n",
       "      <td>[pensar, película, hacer, buen, trabajo, derec...</td>\n",
       "      <td>positive</td>\n",
       "    </tr>\n",
       "    <tr>\n",
       "      <th>56363</th>\n",
       "      <td>[malo, parcela, ,, mal, diálogo, ,, malo, actu...</td>\n",
       "      <td>negative</td>\n",
       "    </tr>\n",
       "    <tr>\n",
       "      <th>56364</th>\n",
       "      <td>[católico, enseñado, escuela, primario, parroq...</td>\n",
       "      <td>negative</td>\n",
       "    </tr>\n",
       "    <tr>\n",
       "      <th>56365</th>\n",
       "      <td>[ir, tener, desacuerdo, comentario, anterior, ...</td>\n",
       "      <td>negative</td>\n",
       "    </tr>\n",
       "    <tr>\n",
       "      <th>56366</th>\n",
       "      <td>[nadie, esperar, película, star, trek, alto, a...</td>\n",
       "      <td>negative</td>\n",
       "    </tr>\n",
       "  </tbody>\n",
       "</table>\n",
       "<p>56367 rows × 2 columns</p>\n",
       "</div>"
      ],
      "text/plain": [
       "                                             review_text review_rate\n",
       "0      [mayor, virtud, película, existencia.el, hecho...    negative\n",
       "1      [experto, cinéfilo, ,, poco, vez, tanto, juego...    negative\n",
       "2      [si, incondicional, humor, estilo, tele, 5.si,...    negative\n",
       "3      [saber, pasar, ,, si, gente, dejar, llevar, mo...    negative\n",
       "4      [`, `, amanecer, ,, quedo, solo, ,, sentir, fo...    negative\n",
       "...                                                  ...         ...\n",
       "56362  [pensar, película, hacer, buen, trabajo, derec...    positive\n",
       "56363  [malo, parcela, ,, mal, diálogo, ,, malo, actu...    negative\n",
       "56364  [católico, enseñado, escuela, primario, parroq...    negative\n",
       "56365  [ir, tener, desacuerdo, comentario, anterior, ...    negative\n",
       "56366  [nadie, esperar, película, star, trek, alto, a...    negative\n",
       "\n",
       "[56367 rows x 2 columns]"
      ]
     },
     "execution_count": 13,
     "metadata": {},
     "output_type": "execute_result"
    }
   ],
   "source": [
    "text_cleaned"
   ]
  },
  {
   "cell_type": "code",
   "execution_count": 14,
   "metadata": {},
   "outputs": [],
   "source": [
    "text_vectorizer = TextVectorization(output_mode='int')"
   ]
  },
  {
   "cell_type": "code",
   "execution_count": 15,
   "metadata": {},
   "outputs": [],
   "source": [
    "text_cleaned['review_text'] = text_cleaned['review_text'].map(lambda corpus: ' '.join(corpus))"
   ]
  },
  {
   "cell_type": "code",
   "execution_count": 16,
   "metadata": {},
   "outputs": [],
   "source": [
    "text_vectorizer.adapt([text_cleaned['review_text']])"
   ]
  },
  {
   "cell_type": "code",
   "execution_count": 17,
   "metadata": {},
   "outputs": [
    {
     "data": {
      "text/html": [
       "<div>\n",
       "<style scoped>\n",
       "    .dataframe tbody tr th:only-of-type {\n",
       "        vertical-align: middle;\n",
       "    }\n",
       "\n",
       "    .dataframe tbody tr th {\n",
       "        vertical-align: top;\n",
       "    }\n",
       "\n",
       "    .dataframe thead th {\n",
       "        text-align: right;\n",
       "    }\n",
       "</style>\n",
       "<table border=\"1\" class=\"dataframe\">\n",
       "  <thead>\n",
       "    <tr style=\"text-align: right;\">\n",
       "      <th></th>\n",
       "      <th>review_text</th>\n",
       "      <th>review_rate</th>\n",
       "    </tr>\n",
       "  </thead>\n",
       "  <tbody>\n",
       "    <tr>\n",
       "      <th>0</th>\n",
       "      <td>mayor virtud película existencia.el hecho pode...</td>\n",
       "      <td>negative</td>\n",
       "    </tr>\n",
       "    <tr>\n",
       "      <th>1</th>\n",
       "      <td>experto cinéfilo , poco vez tanto juego sala c...</td>\n",
       "      <td>negative</td>\n",
       "    </tr>\n",
       "    <tr>\n",
       "      <th>2</th>\n",
       "      <td>si incondicional humor estilo tele 5.si termin...</td>\n",
       "      <td>negative</td>\n",
       "    </tr>\n",
       "    <tr>\n",
       "      <th>3</th>\n",
       "      <td>saber pasar , si gente dejar llevar moda , si ...</td>\n",
       "      <td>negative</td>\n",
       "    </tr>\n",
       "    <tr>\n",
       "      <th>4</th>\n",
       "      <td>` ` amanecer , quedo solo , sentir fondoun mar...</td>\n",
       "      <td>negative</td>\n",
       "    </tr>\n",
       "    <tr>\n",
       "      <th>...</th>\n",
       "      <td>...</td>\n",
       "      <td>...</td>\n",
       "    </tr>\n",
       "    <tr>\n",
       "      <th>56362</th>\n",
       "      <td>pensar película hacer buen trabajo derecha.no ...</td>\n",
       "      <td>positive</td>\n",
       "    </tr>\n",
       "    <tr>\n",
       "      <th>56363</th>\n",
       "      <td>malo parcela , mal diálogo , malo actuación , ...</td>\n",
       "      <td>negative</td>\n",
       "    </tr>\n",
       "    <tr>\n",
       "      <th>56364</th>\n",
       "      <td>católico enseñado escuela primario parroquial ...</td>\n",
       "      <td>negative</td>\n",
       "    </tr>\n",
       "    <tr>\n",
       "      <th>56365</th>\n",
       "      <td>ir tener desacuerdo comentario anterior lado m...</td>\n",
       "      <td>negative</td>\n",
       "    </tr>\n",
       "    <tr>\n",
       "      <th>56366</th>\n",
       "      <td>nadie esperar película star trek alto art , fa...</td>\n",
       "      <td>negative</td>\n",
       "    </tr>\n",
       "  </tbody>\n",
       "</table>\n",
       "<p>56367 rows × 2 columns</p>\n",
       "</div>"
      ],
      "text/plain": [
       "                                             review_text review_rate\n",
       "0      mayor virtud película existencia.el hecho pode...    negative\n",
       "1      experto cinéfilo , poco vez tanto juego sala c...    negative\n",
       "2      si incondicional humor estilo tele 5.si termin...    negative\n",
       "3      saber pasar , si gente dejar llevar moda , si ...    negative\n",
       "4      ` ` amanecer , quedo solo , sentir fondoun mar...    negative\n",
       "...                                                  ...         ...\n",
       "56362  pensar película hacer buen trabajo derecha.no ...    positive\n",
       "56363  malo parcela , mal diálogo , malo actuación , ...    negative\n",
       "56364  católico enseñado escuela primario parroquial ...    negative\n",
       "56365  ir tener desacuerdo comentario anterior lado m...    negative\n",
       "56366  nadie esperar película star trek alto art , fa...    negative\n",
       "\n",
       "[56367 rows x 2 columns]"
      ]
     },
     "execution_count": 17,
     "metadata": {},
     "output_type": "execute_result"
    }
   ],
   "source": [
    "text_cleaned"
   ]
  },
  {
   "cell_type": "code",
   "execution_count": 18,
   "metadata": {},
   "outputs": [
    {
     "name": "stdout",
     "output_type": "stream",
     "text": [
      "   1/1762 [..............................] - ETA: 1:51"
     ]
    },
    {
     "name": "stdout",
     "output_type": "stream",
     "text": [
      "1762/1762 [==============================] - 4s 2ms/step\n"
     ]
    }
   ],
   "source": [
    "model = Sequential(name='Text_Vectorizing')\n",
    "model.add(Input(shape=(1,), dtype=tf.string))\n",
    "model.add(text_vectorizer)\n",
    "\n",
    "text_vectorized = model.predict([text_cleaned['review_text']])\n"
   ]
  },
  {
   "cell_type": "code",
   "execution_count": 19,
   "metadata": {},
   "outputs": [
    {
     "name": "stdout",
     "output_type": "stream",
     "text": [
      "1/1 [==============================] - 0s 93ms/step\n"
     ]
    },
    {
     "data": {
      "text/plain": [
       "array([[4533]], dtype=int64)"
      ]
     },
     "execution_count": 19,
     "metadata": {},
     "output_type": "execute_result"
    }
   ],
   "source": [
    "model.predict(['loca'])"
   ]
  },
  {
   "cell_type": "code",
   "execution_count": 20,
   "metadata": {},
   "outputs": [],
   "source": [
    "size_voc = len(text_vectorizer.get_vocabulary())"
   ]
  },
  {
   "cell_type": "code",
   "execution_count": 21,
   "metadata": {},
   "outputs": [
    {
     "data": {
      "text/plain": [
       "288998"
      ]
     },
     "execution_count": 21,
     "metadata": {},
     "output_type": "execute_result"
    }
   ],
   "source": [
    "size_voc"
   ]
  },
  {
   "cell_type": "code",
   "execution_count": 22,
   "metadata": {},
   "outputs": [],
   "source": [
    "data_train_texts = text_cleaned['review_text']"
   ]
  },
  {
   "cell_type": "code",
   "execution_count": 23,
   "metadata": {},
   "outputs": [],
   "source": [
    "y_prediction_rate = OneHotEncoder().fit_transform(np.array(text_cleaned['review_rate']).reshape(-1,1)).toarray()"
   ]
  },
  {
   "cell_type": "code",
   "execution_count": 24,
   "metadata": {},
   "outputs": [],
   "source": [
    "x_train, x_test, y_train,y_test = train_test_split(text_vectorized.to_tensor().numpy(),y_prediction_rate,random_state=43, train_size=.8)"
   ]
  },
  {
   "cell_type": "code",
   "execution_count": 25,
   "metadata": {},
   "outputs": [],
   "source": [
    "MX_LEN= 100\n",
    "\n",
    "x_train_padd = sequence.pad_sequences(x_train, maxlen=MX_LEN, padding='post',\n",
    "                                         truncating = 'post')\n",
    "\n",
    "x_test_padd = sequence.pad_sequences(x_test, maxlen=MX_LEN, padding='post',\n",
    "                                     truncating='post')\n"
   ]
  },
  {
   "cell_type": "code",
   "execution_count": 26,
   "metadata": {},
   "outputs": [],
   "source": [
    "words =dict(enumerate(text_vectorizer.get_vocabulary()))"
   ]
  },
  {
   "cell_type": "code",
   "execution_count": 27,
   "metadata": {},
   "outputs": [],
   "source": [
    "model_text = Sequential()\n",
    "\n",
    "model_text.add(Embedding(input_dim=size_voc+1,output_dim=200,input_length=100))\n",
    "model_text.add(SimpleRNN(200, return_sequences=True))\n",
    "model_text.add(LSTM(200))\n",
    "model_text.add(Dense(2, activation='softmax'))\n",
    "\n",
    "optimiz = tf.optimizers.RMSprop(learning_rate=0.0001)\n",
    "\n",
    "model_text.compile(loss='categorical_crossentropy', optimizer=optimiz, metrics=['accuracy'])"
   ]
  },
  {
   "cell_type": "code",
   "execution_count": 28,
   "metadata": {},
   "outputs": [
    {
     "name": "stdout",
     "output_type": "stream",
     "text": [
      "Model: \"sequential\"\n",
      "_________________________________________________________________\n",
      " Layer (type)                Output Shape              Param #   \n",
      "=================================================================\n",
      " embedding (Embedding)       (None, 100, 200)          57799800  \n",
      "                                                                 \n",
      " simple_rnn (SimpleRNN)      (None, 100, 200)          80200     \n",
      "                                                                 \n",
      " lstm (LSTM)                 (None, 200)               320800    \n",
      "                                                                 \n",
      " dense (Dense)               (None, 2)                 402       \n",
      "                                                                 \n",
      "=================================================================\n",
      "Total params: 58,201,202\n",
      "Trainable params: 58,201,202\n",
      "Non-trainable params: 0\n",
      "_________________________________________________________________\n"
     ]
    }
   ],
   "source": [
    "model_text.summary()"
   ]
  },
  {
   "cell_type": "code",
   "execution_count": 29,
   "metadata": {},
   "outputs": [
    {
     "name": "stdout",
     "output_type": "stream",
     "text": [
      "Epoch 1/5\n",
      "226/226 [==============================] - 155s 678ms/step - loss: 0.5507 - accuracy: 0.7132 - val_loss: 0.4369 - val_accuracy: 0.7950\n",
      "Epoch 2/5\n",
      "226/226 [==============================] - 155s 687ms/step - loss: 0.3880 - accuracy: 0.8351 - val_loss: 0.4527 - val_accuracy: 0.8139\n",
      "Epoch 3/5\n",
      "226/226 [==============================] - 156s 691ms/step - loss: 0.3208 - accuracy: 0.8709 - val_loss: 0.3947 - val_accuracy: 0.8230\n",
      "Epoch 4/5\n",
      "226/226 [==============================] - 162s 718ms/step - loss: 0.2750 - accuracy: 0.8945 - val_loss: 0.4081 - val_accuracy: 0.8349\n",
      "Epoch 5/5\n",
      "226/226 [==============================] - 169s 747ms/step - loss: 0.2312 - accuracy: 0.9157 - val_loss: 0.3729 - val_accuracy: 0.8374\n"
     ]
    }
   ],
   "source": [
    "history = model_text.fit(x_train_padd, y_train, batch_size=100, epochs=2, validation_data=(x_test_padd, y_test))"
   ]
  },
  {
   "cell_type": "code",
   "execution_count": 30,
   "metadata": {},
   "outputs": [],
   "source": [
    "lemmer = spacy.load('es_core_news_sm')\n",
    "\n",
    "def lematizer_text(rows):\n",
    "    \n",
    "    doc = [word.lemma_ for word in lemmer(rows)]\n",
    "\n",
    "    return doc"
   ]
  },
  {
   "cell_type": "code",
   "execution_count": 33,
   "metadata": {},
   "outputs": [],
   "source": [
    "stopwords_spanish = stopwords.words('spanish')\n",
    "def clean_stopWords(rows):\n",
    "    no_stops = []\n",
    "    for word in rows:\n",
    "        if word not in stopwords_spanish:\n",
    "            no_stops.append(word)\n",
    "    return no_stops"
   ]
  },
  {
   "cell_type": "code",
   "execution_count": 34,
   "metadata": {},
   "outputs": [
    {
     "name": "stdout",
     "output_type": "stream",
     "text": [
      "1/1 [==============================] - 0s 34ms/step\n",
      "1/1 [==============================] - 0s 26ms/step\n"
     ]
    },
    {
     "name": "stdout",
     "output_type": "stream",
     "text": [
      "0.5389313 Positivo\n"
     ]
    }
   ],
   "source": [
    "\n",
    "probe_padd = sequence.pad_sequences(model.predict([' '.join(clean_stopWords(lematizer_text('Tan buena que quedé maravillado por su falta de realismo...la ausencia de buen reparto fue muy notorio')))]), maxlen=100, padding='post', truncating='post')\n",
    "\n",
    "rest = model_text.predict(probe_padd.reshape(1,100,1))\n",
    "\n",
    "if rest[0][0]> rest[0][1]:\n",
    "    print(rest[0][0],'Negativo')\n",
    "else:\n",
    "    print(rest[0][1],'Positivo')"
   ]
  },
  {
   "cell_type": "code",
   "execution_count": 37,
   "metadata": {},
   "outputs": [],
   "source": [
    "model_text.save('RNN_model_prueba.h5')"
   ]
  }
 ],
 "metadata": {
  "kernelspec": {
   "display_name": "Python 3",
   "language": "python",
   "name": "python3"
  },
  "language_info": {
   "codemirror_mode": {
    "name": "ipython",
    "version": 3
   },
   "file_extension": ".py",
   "mimetype": "text/x-python",
   "name": "python",
   "nbconvert_exporter": "python",
   "pygments_lexer": "ipython3",
   "version": "3.11.7"
  }
 },
 "nbformat": 4,
 "nbformat_minor": 2
}
